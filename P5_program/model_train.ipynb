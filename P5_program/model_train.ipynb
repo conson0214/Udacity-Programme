{
 "cells": [
  {
   "cell_type": "markdown",
   "metadata": {},
   "source": [
    "# 训练模型\n",
    "## 1. 单模型训练  \n",
    "单模型训练, 我们采用的是keras库提供的InceptionV3, Xception, InceptionResNetV2三个模型\n",
    "\n",
    "数据集下载：https://www.kaggle.com/c/dogs-vs-cats-redux-kernels-edition/data"
   ]
  },
  {
   "cell_type": "markdown",
   "metadata": {},
   "source": [
    "### 载入必要的库"
   ]
  },
  {
   "cell_type": "code",
   "execution_count": 2,
   "metadata": {},
   "outputs": [
    {
     "name": "stderr",
     "output_type": "stream",
     "text": [
      "/home/autel/.local/lib/python3.5/site-packages/h5py/__init__.py:36: FutureWarning: Conversion of the second argument of issubdtype from `float` to `np.floating` is deprecated. In future, it will be treated as `np.float64 == np.dtype(float).type`.\n",
      "  from ._conv import register_converters as _register_converters\n",
      "Using TensorFlow backend.\n"
     ]
    }
   ],
   "source": [
    "from keras.models import *\n",
    "from keras.layers import *\n",
    "from keras.applications import *\n",
    "from keras.preprocessing.image import *\n",
    "from keras.callbacks import *\n",
    "from keras.applications.imagenet_utils import preprocess_input\n",
    "\n",
    "from sklearn.model_selection import train_test_split\n",
    "from sklearn.utils import shuffle\n",
    "\n",
    "import h5py\n",
    "import numpy as np\n",
    "from tqdm import tqdm\n",
    "import cv2\n",
    "import math\n",
    "import os\n",
    "import datetime\n",
    "import pydot\n",
    "from matplotlib import pyplot as plt"
   ]
  },
  {
   "cell_type": "markdown",
   "metadata": {},
   "source": [
    "### 定义检查路径函数"
   ]
  },
  {
   "cell_type": "code",
   "execution_count": 3,
   "metadata": {
    "collapsed": true
   },
   "outputs": [],
   "source": [
    "def check_path_gen():\n",
    "    if not(os.path.exists('./Weights')):\n",
    "        os.mkdir('Weights')\n",
    "    if not(os.path.exists('./Tensor_log')):\n",
    "        os.mkdir('Tensor_log')"
   ]
  },
  {
   "cell_type": "markdown",
   "metadata": {},
   "source": [
    "### 定义剔除异常数据函数"
   ]
  },
  {
   "cell_type": "code",
   "execution_count": 4,
   "metadata": {
    "collapsed": true
   },
   "outputs": [],
   "source": [
    "dog_train_path = './Dataset/train/dog'\n",
    "cat_train_path = './Dataset/train/cat'\n",
    "\n",
    "def abnormal_data_reject():\n",
    "    dog_train_list = os.listdir(dog_train_path)\n",
    "    cat_train_list = os.listdir(cat_train_path)\n",
    "    with open('./abnormal.txt', 'r') as f:\n",
    "        while 1:\n",
    "            line = f.readline()\n",
    "            if not line:\n",
    "                break\n",
    "            img_name = line.replace('\\n', '')\n",
    "            if 'dog' in line:\n",
    "                dog_train_list.remove(img_name)\n",
    "            else:\n",
    "                cat_train_list.remove(img_name)\n",
    "    dog_train_list = [os.path.join(dog_train_path, f) for f in dog_train_list]\n",
    "    cat_train_list = [os.path.join(cat_train_path, f) for f in cat_train_list]\n",
    "    train_list = dog_train_list + cat_train_list\n",
    "\n",
    "    return train_list"
   ]
  },
  {
   "cell_type": "markdown",
   "metadata": {},
   "source": [
    "### 定义训练函数"
   ]
  },
  {
   "cell_type": "code",
   "execution_count": 5,
   "metadata": {
    "collapsed": true
   },
   "outputs": [],
   "source": [
    "def train_cat_dog(MODEL, image_size, preprocess_func):\n",
    "    # hyper-parameters\n",
    "    bs = 16\n",
    "\n",
    "    width = image_size[0]\n",
    "    height = image_size[1]\n",
    "    input_tensor = Input((height, width, 3))\n",
    "    x = input_tensor\n",
    "    \n",
    "    base_model = MODEL(input_tensor=x, weights='imagenet', include_top=False)\n",
    "\n",
    "    # 搭建tranfer learning的最后一层\n",
    "    x = GlobalAveragePooling2D()(base_model.output)\n",
    "    x = Dropout(0.25)(x)\n",
    "    x = Dense(1, activation='sigmoid')(x)\n",
    "    model = Model(base_model.input, x)\n",
    "    model.compile(optimizer='adadelta',\n",
    "                  loss='binary_crossentropy',\n",
    "                  metrics=['accuracy'])\n",
    "\n",
    "    # data generate\n",
    "    n = all_train_list.__len__()\n",
    "    X = np.zeros((n, image_size[0], image_size[1], 3), dtype=np.uint8)\n",
    "    y = np.zeros((n, 1), dtype=np.uint8)\n",
    "    X_file = 'X' + str(image_size[0]) + '.npy'\n",
    "    y_file = 'y' + str(image_size[0]) + '.npy'\n",
    "\n",
    "    if os.path.exists(X_file) and os.path.exists(y_file):\n",
    "        X = np.load(X_file)\n",
    "        y = np.load(y_file)\n",
    "    else:\n",
    "        for idx, img_name in tqdm(enumerate(all_train_list)):\n",
    "            X[idx] = cv2.resize(cv2.imread(img_name), (image_size[0], image_size[1]))\n",
    "            if 'dog' in img_name:\n",
    "                y[idx] = 1\n",
    "            else:\n",
    "                y[idx] = 0\n",
    "        np.save(X_file, X)\n",
    "        np.save(y_file, y)\n",
    "\n",
    "    X_train, X_valid, y_train, y_valid = train_test_split(X, y, test_size=0.1)\n",
    "\n",
    "    train_datagen = ImageDataGenerator(preprocessing_function=preprocess_func)\n",
    "    val_datagen = ImageDataGenerator(preprocessing_function=preprocess_func)\n",
    "\n",
    "    train_generator = train_datagen.flow(X_train, y_train, batch_size=bs)\n",
    "    val_generator = val_datagen.flow(X_valid, y_valid, batch_size=bs)\n",
    "\n",
    "    # callbacks\n",
    "    best_weights_path = os.path.join('./Weights', MODEL.__name__)\n",
    "    if not(os.path.exists(best_weights_path)):\n",
    "        os.mkdir(best_weights_path)\n",
    "    best_weights_filepath = os.path.join(best_weights_path, 'best_weights')\n",
    "\n",
    "    log_path = os.path.join('./Tensor_log', MODEL.__name__)\n",
    "    if not (os.path.exists(log_path)):\n",
    "        os.mkdir(log_path)\n",
    "\n",
    "    earlyStopping = EarlyStopping(monitor='val_loss', patience=20, verbose=1, mode='auto')\n",
    "    saveBestModel = ModelCheckpoint(best_weights_filepath, monitor='val_loss', verbose=1, save_best_only=True, mode='auto')\n",
    "    reduce_lr = ReduceLROnPlateau(monitor='val_loss', factor=1/math.e, verbose=1, patience=10, min_lr=0.0001)\n",
    "    tensorboard = TensorBoard(log_dir=log_path)\n",
    "\n",
    "    # 训练\n",
    "    model.fit_generator(train_generator, steps_per_epoch=1000, epochs=8, validation_data=val_generator,\n",
    "                        verbose=2, callbacks=[earlyStopping, saveBestModel, reduce_lr, tensorboard])\n",
    "    # model.fit(X, y, batch_size=16, epochs=50, validation_split=0.1)\n",
    "    model.save(MODEL.__name__ + '_cvd.h5')"
   ]
  },
  {
   "cell_type": "markdown",
   "metadata": {},
   "source": [
    "### 执行训练过程, 统计训练时间并生成固化模型"
   ]
  },
  {
   "cell_type": "code",
   "execution_count": 6,
   "metadata": {},
   "outputs": [
    {
     "name": "stdout",
     "output_type": "stream",
     "text": [
      "Epoch 1/8\n",
      " - 316s - loss: 0.1761 - acc: 0.9279 - val_loss: 0.1110 - val_acc: 0.9550\n",
      "\n",
      "Epoch 00001: val_loss improved from inf to 0.11102, saving model to ./Weights/InceptionV3/best_weights\n",
      "Epoch 2/8\n",
      " - 305s - loss: 0.0960 - acc: 0.9642 - val_loss: 0.0954 - val_acc: 0.9578\n",
      "\n",
      "Epoch 00002: val_loss improved from 0.11102 to 0.09543, saving model to ./Weights/InceptionV3/best_weights\n",
      "Epoch 3/8\n",
      " - 306s - loss: 0.0707 - acc: 0.9729 - val_loss: 0.0782 - val_acc: 0.9691\n",
      "\n",
      "Epoch 00003: val_loss improved from 0.09543 to 0.07818, saving model to ./Weights/InceptionV3/best_weights\n",
      "Epoch 4/8\n",
      " - 305s - loss: 0.0558 - acc: 0.9807 - val_loss: 0.0761 - val_acc: 0.9739\n",
      "\n",
      "Epoch 00004: val_loss improved from 0.07818 to 0.07614, saving model to ./Weights/InceptionV3/best_weights\n",
      "Epoch 5/8\n",
      " - 305s - loss: 0.0442 - acc: 0.9829 - val_loss: 0.2729 - val_acc: 0.9116\n",
      "\n",
      "Epoch 00005: val_loss did not improve\n",
      "Epoch 6/8\n",
      " - 305s - loss: 0.0377 - acc: 0.9872 - val_loss: 0.0599 - val_acc: 0.9743\n",
      "\n",
      "Epoch 00006: val_loss improved from 0.07614 to 0.05987, saving model to ./Weights/InceptionV3/best_weights\n",
      "Epoch 7/8\n",
      " - 305s - loss: 0.0311 - acc: 0.9891 - val_loss: 0.0696 - val_acc: 0.9715\n",
      "\n",
      "Epoch 00007: val_loss did not improve\n",
      "Epoch 8/8\n",
      " - 305s - loss: 0.0258 - acc: 0.9903 - val_loss: 0.0899 - val_acc: 0.9763\n",
      "\n",
      "Epoch 00008: val_loss did not improve\n",
      "Epoch 1/8\n",
      " - 536s - loss: 0.0690 - acc: 0.9785 - val_loss: 0.0557 - val_acc: 0.9811\n",
      "\n",
      "Epoch 00001: val_loss improved from inf to 0.05570, saving model to ./Weights/Xception/best_weights\n",
      "Epoch 2/8\n",
      " - 505s - loss: 0.0316 - acc: 0.9902 - val_loss: 0.0676 - val_acc: 0.9827\n",
      "\n",
      "Epoch 00002: val_loss did not improve\n",
      "Epoch 3/8\n",
      " - 505s - loss: 0.0278 - acc: 0.9906 - val_loss: 0.0506 - val_acc: 0.9827\n",
      "\n",
      "Epoch 00003: val_loss improved from 0.05570 to 0.05055, saving model to ./Weights/Xception/best_weights\n",
      "Epoch 4/8\n",
      " - 506s - loss: 0.0190 - acc: 0.9936 - val_loss: 0.0483 - val_acc: 0.9815\n",
      "\n",
      "Epoch 00004: val_loss improved from 0.05055 to 0.04827, saving model to ./Weights/Xception/best_weights\n",
      "Epoch 5/8\n",
      " - 505s - loss: 0.0118 - acc: 0.9968 - val_loss: 0.0470 - val_acc: 0.9871\n",
      "\n",
      "Epoch 00005: val_loss improved from 0.04827 to 0.04701, saving model to ./Weights/Xception/best_weights\n",
      "Epoch 6/8\n",
      " - 505s - loss: 0.0082 - acc: 0.9976 - val_loss: 0.0375 - val_acc: 0.9871\n",
      "\n",
      "Epoch 00006: val_loss improved from 0.04701 to 0.03749, saving model to ./Weights/Xception/best_weights\n",
      "Epoch 7/8\n",
      " - 505s - loss: 0.0078 - acc: 0.9976 - val_loss: 0.0341 - val_acc: 0.9920\n",
      "\n",
      "Epoch 00007: val_loss improved from 0.03749 to 0.03407, saving model to ./Weights/Xception/best_weights\n",
      "Epoch 8/8\n",
      " - 505s - loss: 0.0052 - acc: 0.9981 - val_loss: 0.0465 - val_acc: 0.9855\n",
      "\n",
      "Epoch 00008: val_loss did not improve\n",
      "Epoch 1/8\n",
      " - 654s - loss: 0.0978 - acc: 0.9637 - val_loss: 0.0434 - val_acc: 0.9815\n",
      "\n",
      "Epoch 00001: val_loss improved from inf to 0.04338, saving model to ./Weights/InceptionResNetV2/best_weights\n",
      "Epoch 2/8\n",
      " - 648s - loss: 0.0524 - acc: 0.9816 - val_loss: 0.3867 - val_acc: 0.9594\n",
      "\n",
      "Epoch 00002: val_loss did not improve\n",
      "Epoch 3/8\n",
      " - 648s - loss: 0.0360 - acc: 0.9865 - val_loss: 0.0805 - val_acc: 0.9815\n",
      "\n",
      "Epoch 00003: val_loss did not improve\n",
      "Epoch 4/8\n",
      " - 648s - loss: 0.0236 - acc: 0.9910 - val_loss: 0.0852 - val_acc: 0.9735\n",
      "\n",
      "Epoch 00004: val_loss did not improve\n",
      "Epoch 5/8\n",
      " - 648s - loss: 0.0162 - acc: 0.9946 - val_loss: 0.0406 - val_acc: 0.9855\n",
      "\n",
      "Epoch 00005: val_loss improved from 0.04338 to 0.04062, saving model to ./Weights/InceptionResNetV2/best_weights\n",
      "Epoch 6/8\n",
      " - 648s - loss: 0.0158 - acc: 0.9944 - val_loss: 0.0839 - val_acc: 0.9851\n",
      "\n",
      "Epoch 00006: val_loss did not improve\n",
      "Epoch 7/8\n",
      " - 648s - loss: 0.0086 - acc: 0.9967 - val_loss: 0.0549 - val_acc: 0.9843\n",
      "\n",
      "Epoch 00007: val_loss did not improve\n",
      "Epoch 8/8\n",
      " - 648s - loss: 0.0068 - acc: 0.9977 - val_loss: 0.1738 - val_acc: 0.9771\n",
      "\n",
      "Epoch 00008: val_loss did not improve\n",
      "InceptionV3 train time 2529 seconds\n",
      "Xception train time 4150 seconds\n",
      "InceptionResNetV2 train time 5434 seconds\n"
     ]
    }
   ],
   "source": [
    "check_path_gen()\n",
    "all_train_list = abnormal_data_reject()\n",
    "\n",
    "# tick tock start\n",
    "starttime = datetime.datetime.now()\n",
    "train_cat_dog(InceptionV3, (299, 299), inception_v3.preprocess_input)\n",
    "endtimeV3 = datetime.datetime.now()\n",
    "\n",
    "train_cat_dog(Xception, (299, 299), xception.preprocess_input)\n",
    "endtimeXcep = datetime.datetime.now()\n",
    "\n",
    "train_cat_dog(InceptionResNetV2, (299, 299), inception_resnet_v2.preprocess_input)\n",
    "endtimeIRV2 = datetime.datetime.now()\n",
    "\n",
    "print('InceptionV3 train time %d seconds' % (endtimeV3-starttime).seconds)\n",
    "print('Xception train time %d seconds' % (endtimeXcep-endtimeV3).seconds)\n",
    "print('InceptionResNetV2 train time %d seconds' % (endtimeIRV2-endtimeXcep).seconds)"
   ]
  },
  {
   "cell_type": "markdown",
   "metadata": {},
   "source": [
    "## 2. 模型融合训练  \n",
    "将三个模型特征提取出来, 融合在一起, 在加FC层和分类器, 利用集成学习方法训练更强大的模型"
   ]
  },
  {
   "cell_type": "markdown",
   "metadata": {},
   "source": [
    "### 定义函数将三个模型的特征分别提取出来并保存成.h5文件"
   ]
  },
  {
   "cell_type": "code",
   "execution_count": 7,
   "metadata": {
    "collapsed": true
   },
   "outputs": [],
   "source": [
    "def write_gap(MODEL, image_size, lambda_func=None):\n",
    "    # get model\n",
    "    width = image_size[0]\n",
    "    height = image_size[1]\n",
    "    input_tensor = Input((height, width, 3))\n",
    "    x = input_tensor\n",
    "    if lambda_func:\n",
    "        x = Lambda(lambda_func)(x)\n",
    "\n",
    "    base_model = MODEL(input_tensor=x, weights='imagenet', include_top=False)\n",
    "    model = Model(base_model.input, GlobalAveragePooling2D()(base_model.output))\n",
    "\n",
    "    # data generate\n",
    "    n = all_train_list.__len__()\n",
    "    X = np.zeros((n, image_size[0], image_size[1], 3), dtype=np.uint8)\n",
    "    y = np.zeros((n, 1), dtype=np.uint8)\n",
    "    X_file = 'X' + str(image_size[0]) + '.npy'\n",
    "    y_file = 'y' + str(image_size[0]) + '.npy'\n",
    "\n",
    "    if os.path.exists(X_file) and os.path.exists(y_file):\n",
    "        X = np.load(X_file)\n",
    "        y = np.load(y_file)\n",
    "    else:\n",
    "        for idx, img_name in tqdm(enumerate(all_train_list)):\n",
    "            X[idx] = cv2.resize(cv2.imread(img_name), (image_size[0], image_size[1]))\n",
    "            if 'dog' in img_name:\n",
    "                y[idx] = 1\n",
    "            else:\n",
    "                y[idx] = 0\n",
    "        np.save(X_file, X)\n",
    "        np.save(y_file, y)\n",
    "\n",
    "    train_data_gen = ImageDataGenerator()\n",
    "    test_data_gen = ImageDataGenerator()\n",
    "\n",
    "    train_generator = train_data_gen.flow(X, y, shuffle=False, batch_size=100)\n",
    "    test_generator = test_data_gen.flow_from_directory(\"./Dataset/test2\", image_size, shuffle=False\n",
    "                                                       , batch_size=100, class_mode=None)\n",
    "    # feature get\n",
    "    train = model.predict_generator(train_generator, math.ceil(n/100))\n",
    "    test = model.predict_generator(test_generator, int(test_generator.samples/100))\n",
    "    with h5py.File(\"gap_%s.h5\" % MODEL.__name__) as h:\n",
    "        h.create_dataset(\"train\", data=train)\n",
    "        h.create_dataset(\"test\", data=test)\n",
    "        h.create_dataset(\"label\", data=y)"
   ]
  },
  {
   "cell_type": "markdown",
   "metadata": {},
   "source": [
    "### 提取模型特征的执行过程"
   ]
  },
  {
   "cell_type": "code",
   "execution_count": 10,
   "metadata": {},
   "outputs": [
    {
     "name": "stdout",
     "output_type": "stream",
     "text": [
      "Found 12500 images belonging to 1 classes.\n",
      "Found 12500 images belonging to 1 classes.\n",
      "Found 12500 images belonging to 1 classes.\n",
      "1357\n"
     ]
    }
   ],
   "source": [
    "starttime = datetime.datetime.now()\n",
    "write_gap(InceptionV3, (299, 299), inception_v3.preprocess_input)\n",
    "write_gap(Xception, (299, 299), xception.preprocess_input)\n",
    "write_gap(InceptionResNetV2, (299, 299), inception_resnet_v2.preprocess_input)\n",
    "endtime = datetime.datetime.now()\n",
    "print((endtime-starttime).seconds)"
   ]
  },
  {
   "cell_type": "markdown",
   "metadata": {},
   "source": [
    "### 训练融合模型并固化模型"
   ]
  },
  {
   "cell_type": "code",
   "execution_count": 11,
   "metadata": {},
   "outputs": [
    {
     "name": "stderr",
     "output_type": "stream",
     "text": [
      "/home/autel/.local/lib/python3.5/site-packages/ipykernel_launcher.py:31: UserWarning: The `nb_epoch` argument in `fit` has been renamed `epochs`.\n"
     ]
    },
    {
     "name": "stdout",
     "output_type": "stream",
     "text": [
      "Train on 19918 samples, validate on 4980 samples\n",
      "Epoch 1/8\n",
      "19918/19918 [==============================] - 2s 116us/step - loss: 0.0694 - acc: 0.9810 - val_loss: 0.0166 - val_acc: 0.9952\n",
      "Epoch 2/8\n",
      "19918/19918 [==============================] - 1s 55us/step - loss: 0.0170 - acc: 0.9952 - val_loss: 0.0095 - val_acc: 0.9968\n",
      "Epoch 3/8\n",
      "19918/19918 [==============================] - 1s 56us/step - loss: 0.0131 - acc: 0.9960 - val_loss: 0.0099 - val_acc: 0.9968\n",
      "Epoch 4/8\n",
      "19918/19918 [==============================] - 1s 54us/step - loss: 0.0113 - acc: 0.9964 - val_loss: 0.0109 - val_acc: 0.9966\n",
      "Epoch 5/8\n",
      "19918/19918 [==============================] - 1s 56us/step - loss: 0.0108 - acc: 0.9964 - val_loss: 0.0072 - val_acc: 0.9968\n",
      "Epoch 6/8\n",
      "19918/19918 [==============================] - 1s 55us/step - loss: 0.0099 - acc: 0.9968 - val_loss: 0.0071 - val_acc: 0.9966\n",
      "Epoch 7/8\n",
      "19918/19918 [==============================] - 1s 55us/step - loss: 0.0089 - acc: 0.9974 - val_loss: 0.0090 - val_acc: 0.9968\n",
      "Epoch 8/8\n",
      "19918/19918 [==============================] - 1s 56us/step - loss: 0.0086 - acc: 0.9971 - val_loss: 0.0076 - val_acc: 0.9968\n",
      "model concat train time 45 seconds\n"
     ]
    }
   ],
   "source": [
    "X_train = []\n",
    "X_test = []\n",
    "\n",
    "starttime = datetime.datetime.now()\n",
    "\n",
    "for filename in [\"gap_InceptionV3.h5\", \"gap_Xception.h5\", \"gap_InceptionResNetV2.h5\"]:\n",
    "    with h5py.File(filename, 'r') as h:\n",
    "        X_train.append(np.array(h['train']))\n",
    "        X_test.append(np.array(h['test']))\n",
    "        y_train = np.array(h['label'])\n",
    "\n",
    "X_train = np.concatenate(X_train, axis=1)\n",
    "X_test = np.concatenate(X_test, axis=1)\n",
    "\n",
    "X_train, y_train = shuffle(X_train, y_train)\n",
    "\n",
    "# 训练\n",
    "input_tensor = Input(X_train.shape[1:])\n",
    "x = Dropout(0.5)(input_tensor)\n",
    "x = Dense(1, activation='sigmoid')(x)\n",
    "model = Model(input_tensor, x)\n",
    "\n",
    "model.compile(optimizer='adadelta',\n",
    "              loss='binary_crossentropy',\n",
    "              metrics=['accuracy'])\n",
    "\n",
    "log_path = './model_concat_tensor_log'\n",
    "tensorboard = TensorBoard(log_dir=log_path)\n",
    "\n",
    "\n",
    "model.fit(X_train, y_train, batch_size=128, nb_epoch=8, validation_split=0.2, callbacks=[tensorboard])\n",
    "endtime = datetime.datetime.now()\n",
    "print(\"model concat train time %d seconds\" % (endtime-starttime).seconds)\n",
    "\n",
    "# 模型保存\n",
    "model.save('model_concat_cvd.h5')"
   ]
  },
  {
   "cell_type": "markdown",
   "metadata": {},
   "source": [
    "### 模型可视化\n",
    "我们利用graphviz写好模型的结构, 观察输入和输出的特征数量和经过的结点"
   ]
  },
  {
   "cell_type": "code",
   "execution_count": 12,
   "metadata": {},
   "outputs": [
    {
     "data": {
      "text/plain": [
       "<matplotlib.image.AxesImage at 0x7f9a7be38dd8>"
      ]
     },
     "execution_count": 12,
     "metadata": {},
     "output_type": "execute_result"
    },
    {
     "data": {
      "image/png": "[encoded data removed]",
      "text/plain": [
       "<matplotlib.figure.Figure at 0x7f9a7be9cc50>"
      ]
     },
     "metadata": {},
     "output_type": "display_data"
    }
   ],
   "source": [
    "%matplotlib inline\n",
    "\n",
    "(graph, ) = pydot.graph_from_dot_file('./graph_model_concat.dot')\n",
    "graph.write('./graph_model_concat.png', format='png')\n",
    "graph_img = cv2.imread('graph_model_concat.png')\n",
    "b, g, r = cv2.split(graph_img)\n",
    "img = cv2.merge([r, g, b])\n",
    "plt.imshow(graph_img)"
   ]
  }
 ],
 "metadata": {
  "kernelspec": {
   "display_name": "Python 3",
   "language": "python",
   "name": "python3"
  },
  "language_info": {
   "codemirror_mode": {
    "name": "ipython",
    "version": 3
   },
   "file_extension": ".py",
   "mimetype": "text/x-python",
   "name": "python",
   "nbconvert_exporter": "python",
   "pygments_lexer": "ipython3",
   "version": "3.5.2"
  }
 },
 "nbformat": 4,
 "nbformat_minor": 2
}
