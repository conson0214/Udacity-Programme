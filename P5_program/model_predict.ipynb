{
 "cells": [
  {
   "cell_type": "markdown",
   "metadata": {},
   "source": [
    "# 训练预测\n",
    "## 1. 单模型预测 \n",
    "我们将刚才固化下来的InceptionV3, InceptionResNetV2, ResNet50模型载入, 预测测试集, 并生成要向Kaggle提交的.csv文件"
   ]
  },
  {
   "cell_type": "markdown",
   "metadata": {},
   "source": [
    "### 载入必要的库"
   ]
  },
  {
   "cell_type": "code",
   "execution_count": 6,
   "metadata": {},
   "outputs": [],
   "source": [
    "from keras.models import *\n",
    "from keras.preprocessing.image import *\n",
    "from keras.applications.imagenet_utils import preprocess_input\n",
    "\n",
    "import pandas as pd"
   ]
  },
  {
   "cell_type": "markdown",
   "metadata": {},
   "source": [
    "### 定义预测函数, 每个模型生成相应的预测文件"
   ]
  },
  {
   "cell_type": "code",
   "execution_count": 4,
   "metadata": {
    "collapsed": true
   },
   "outputs": [],
   "source": [
    "def predict_cat_dog(model_name, img_size):\n",
    "    batch_size = 100\n",
    "    \n",
    "    model = load_model(model_name)\n",
    "\n",
    "    gen = ImageDataGenerator(preprocessing_function=preprocess_input)\n",
    "    test_generator = gen.flow_from_directory(\"./Dataset/test2\", img_size, shuffle=False,\n",
    "                                             batch_size=batch_size, class_mode=None)\n",
    "\n",
    "    y_test = model.predict_generator(test_generator, test_generator.samples // batch_size)\n",
    "    y_test = y_test.clip(min=0.005, max=0.995)\n",
    "\n",
    "    # 产生submission\n",
    "    df = pd.read_csv(\"sample_submission.csv\")\n",
    "\n",
    "    for i, fname in enumerate(test_generator.filenames):\n",
    "        index = int(fname[fname.rfind('/') + 1:fname.rfind('.')])\n",
    "        df.set_value(index - 1, 'label', y_test[i])\n",
    "\n",
    "    df.to_csv(model_name.split('_')[0]+'_pred.csv', index=None)"
   ]
  },
  {
   "cell_type": "markdown",
   "metadata": {},
   "source": [
    "### 分别执行三个模型的预测, 得到三个预测文件"
   ]
  },
  {
   "cell_type": "code",
   "execution_count": null,
   "metadata": {
    "collapsed": true
   },
   "outputs": [],
   "source": [
    "predict_cat_dog('InceptionV3_cvd.h5', (299, 299))\n",
    "predict_cat_dog('ResNet50_cvd.h5', (224, 224))\n",
    "predict_cat_dog('InceptionResNetV2_cvd.h5', (299, 299))"
   ]
  },
  {
   "cell_type": "markdown",
   "metadata": {},
   "source": [
    "## 2. 融合模型预测\n",
    "将在测试集图像经过三个模型得到的特征从保存的特征文件中解析出来, 用固化的融合模型进行预测, 生成相应的预测文件"
   ]
  },
  {
   "cell_type": "code",
   "execution_count": null,
   "metadata": {
    "collapsed": true
   },
   "outputs": [],
   "source": [
    "X_train = []\n",
    "X_test = []\n",
    "y_pred = []\n",
    "\n",
    "for filename in [\"gap_ResNet50.h5\", \"gap_InceptionResNetV2.h5\", \"gap_InceptionV3.h5\"]:\n",
    "    with h5py.File(filename, 'r') as h:\n",
    "        X_train.append(np.array(h['train']))\n",
    "        X_test.append(np.array(h['test']))\n",
    "        y_train = np.array(h['label'])\n",
    "\n",
    "X_train = np.concatenate(X_train, axis=1)\n",
    "X_test = np.concatenate(X_test, axis=1)\n",
    "\n",
    "# 获取保存的模型\n",
    "model = load_model('model_concat_cvd.h5')\n",
    "\n",
    "y_pred = model.predict(X_test, verbose=1)\n",
    "y_pred = y_pred.clip(min=0.005, max=0.995)\n",
    "\n",
    "\n",
    "# 产生submission\n",
    "df = pd.read_csv(\"sample_submission.csv\")\n",
    "\n",
    "gen = ImageDataGenerator()\n",
    "test_generator = gen.flow_from_directory(\"./Dataset/test2\", (224, 224), shuffle=False,\n",
    "                                         batch_size=16, class_mode=None)\n",
    "\n",
    "for i, fname in enumerate(test_generator.filenames):\n",
    "    index = int(fname[fname.rfind('/')+1:fname.rfind('.')])\n",
    "    df.set_value(index-1, 'label', y_pred[i])\n",
    "\n",
    "df.to_csv('model_concat_pred.csv', index=None)\n",
    "df.head(10)"
   ]
  }
 ],
 "metadata": {
  "kernelspec": {
   "display_name": "Python 3",
   "language": "python",
   "name": "python3"
  },
  "language_info": {
   "codemirror_mode": {
    "name": "ipython",
    "version": 3
   },
   "file_extension": ".py",
   "mimetype": "text/x-python",
   "name": "python",
   "nbconvert_exporter": "python",
   "pygments_lexer": "ipython3",
   "version": "3.5.2"
  }
 },
 "nbformat": 4,
 "nbformat_minor": 2
}
